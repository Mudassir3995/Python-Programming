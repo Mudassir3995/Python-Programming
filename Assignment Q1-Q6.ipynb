{
 "cells": [
  {
   "cell_type": "code",
   "execution_count": 2,
   "metadata": {},
   "outputs": [
    {
     "name": "stdout",
     "output_type": "stream",
     "text": [
      "Twinkle, Twinkle, little star,\n",
      "      How I wonder what you are !\n",
      "            Up above the World so high,\n",
      "            Like a diamond in the sky.\n",
      "Twinkle, Twinkle, little star,\n",
      "      How I wonder what you are !\n"
     ]
    }
   ],
   "source": [
    "print(\"Twinkle, Twinkle, little star,\")\n",
    "print(\"      How I wonder what you are !\")\n",
    "print(\"            Up above the World so high,\")\n",
    "print(\"            Like a diamond in the sky.\")\n",
    "print(\"Twinkle, Twinkle, little star,\")\n",
    "print(\"      How I wonder what you are !\")"
   ]
  },
  {
   "cell_type": "code",
   "execution_count": 5,
   "metadata": {},
   "outputs": [
    {
     "name": "stdout",
     "output_type": "stream",
     "text": [
      "Python Version =  3.7.4\n"
     ]
    }
   ],
   "source": [
    "from platform import python_version\n",
    "print(\"Python Version = \",python_version())\n"
   ]
  },
  {
   "cell_type": "code",
   "execution_count": 6,
   "metadata": {},
   "outputs": [
    {
     "name": "stdout",
     "output_type": "stream",
     "text": [
      "2019-11-04 12:19:12.857846\n"
     ]
    }
   ],
   "source": [
    "from datetime import datetime\n",
    "now = datetime.now()\n",
    "print(now)"
   ]
  },
  {
   "cell_type": "code",
   "execution_count": 7,
   "metadata": {},
   "outputs": [
    {
     "name": "stdout",
     "output_type": "stream",
     "text": [
      "Please enter the radius: 6\n",
      "Area of Circle is :  113.04\n"
     ]
    }
   ],
   "source": [
    "radius = int(input(\"Please enter the radius: \"))\n",
    "Area = 3.14 * radius**2\n",
    "print(\"Area of Circle is : \", Area)"
   ]
  },
  {
   "cell_type": "code",
   "execution_count": 9,
   "metadata": {},
   "outputs": [
    {
     "name": "stdout",
     "output_type": "stream",
     "text": [
      "Please enter your first name:Mudassir\n",
      "Please enter your last name:Hashmi\n",
      "Inverted Output = Hashmi   Mudassir\n"
     ]
    }
   ],
   "source": [
    "first_name = input(\"Please enter your first name:\")\n",
    "last_name = input(\"Please enter your last name:\")\n",
    "print(\"Inverted Output =\",last_name,\" \",first_name)"
   ]
  },
  {
   "cell_type": "code",
   "execution_count": 10,
   "metadata": {},
   "outputs": [
    {
     "name": "stdout",
     "output_type": "stream",
     "text": [
      "Please enter 1st number:9\n",
      "Please enter 2nd number:18\n",
      "Addition of both Numbers: 27\n"
     ]
    }
   ],
   "source": [
    "a = int(input(\"Please enter 1st number:\"))\n",
    "b = int(input(\"Please enter 2nd number:\"))\n",
    "c = a+b\n",
    "print(\"Addition of both Numbers:\",c)"
   ]
  },
  {
   "cell_type": "code",
   "execution_count": null,
   "metadata": {},
   "outputs": [],
   "source": []
  }
 ],
 "metadata": {
  "kernelspec": {
   "display_name": "Python 3",
   "language": "python",
   "name": "python3"
  },
  "language_info": {
   "codemirror_mode": {
    "name": "ipython",
    "version": 3
   },
   "file_extension": ".py",
   "mimetype": "text/x-python",
   "name": "python",
   "nbconvert_exporter": "python",
   "pygments_lexer": "ipython3",
   "version": "3.7.4"
  }
 },
 "nbformat": 4,
 "nbformat_minor": 2
}
