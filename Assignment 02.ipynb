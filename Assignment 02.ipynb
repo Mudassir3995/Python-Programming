{
 "cells": [
  {
   "cell_type": "code",
   "execution_count": 15,
   "metadata": {},
   "outputs": [
    {
     "name": "stdout",
     "output_type": "stream",
     "text": [
      "Please Enter Numbers Obtained in Math out of 100 : 95\n",
      "Please Enter Numbers Obtained in English out of 100 : 76\n",
      "Please Enter Numbers Obtained in Islamiat out of 50 : 37\n",
      "Please Enter Numbers Obtained in Urdu out of 100 : 68\n",
      "Please Enter Numbers Obtained in Python out of 100 : 82\n",
      "Contragulations! You got A\n"
     ]
    }
   ],
   "source": [
    "a = int(input(\"Please Enter Numbers Obtained in Math out of 100 : \"))\n",
    "b = int(input(\"Please Enter Numbers Obtained in English out of 100 : \"))\n",
    "c = int(input(\"Please Enter Numbers Obtained in Islamiat out of 50 : \"))\n",
    "d = int(input(\"Please Enter Numbers Obtained in Urdu out of 100 : \"))\n",
    "e = int(input(\"Please Enter Numbers Obtained in Python out of 100 : \"))\n",
    "f = a+b+c+d+e\n",
    "if f >= ((0.8)*450):\n",
    "    print(\"Contragulations! You got A+\")\n",
    "elif f >= ((0.7)*450):\n",
    "      print (\"Contragulations! You got A\")\n",
    "elif f >= ((0.6)*450):\n",
    "      print (\"Good! You got B\")\n",
    "elif f>= ((0.5)*450):\n",
    "      print (\"Just passed! You got C\")\n",
    "else:\n",
    "      print (\"Sorry! You got Failed.\")"
   ]
  },
  {
   "cell_type": "code",
   "execution_count": 25,
   "metadata": {},
   "outputs": [
    {
     "name": "stdout",
     "output_type": "stream",
     "text": [
      "Please Enter any number : 76\n",
      "The Number is EVEN\n"
     ]
    }
   ],
   "source": [
    "a = int(input(\"Please Enter any number : \"))\n",
    "if (a % 2) == 0:\n",
    "    print (\"The Number is EVEN\")\n",
    "else:\n",
    "    print (\"The number is ODD\")"
   ]
  },
  {
   "cell_type": "code",
   "execution_count": 28,
   "metadata": {},
   "outputs": [
    {
     "name": "stdout",
     "output_type": "stream",
     "text": [
      "The length of list is :  5\n"
     ]
    }
   ],
   "source": [
    "list = [\"amir\",\"basit\",26,58,0.564]\n",
    "arr = len(list)\n",
    "print(\"The length of list is : \",arr)"
   ]
  },
  {
   "cell_type": "code",
   "execution_count": 35,
   "metadata": {},
   "outputs": [
    {
     "name": "stdout",
     "output_type": "stream",
     "text": [
      "The sum of Numbers is :  78\n"
     ]
    }
   ],
   "source": [
    "arr = [12,8,28,17,13]\n",
    "print(\"The sum of Numbers is : \",sum(arr))\n"
   ]
  },
  {
   "cell_type": "code",
   "execution_count": 34,
   "metadata": {},
   "outputs": [
    {
     "name": "stdout",
     "output_type": "stream",
     "text": [
      "The largest number in the list is :  103\n"
     ]
    }
   ],
   "source": [
    "list4 = [99,25,103,2,6,73,16]\n",
    "print(\"The largest number in the list is : \",max(list4))"
   ]
  },
  {
   "cell_type": "code",
   "execution_count": 38,
   "metadata": {},
   "outputs": [
    {
     "name": "stdout",
     "output_type": "stream",
     "text": [
      "Numbers less than 5 are :  [1, 1, 2, 3, 4, 3]\n"
     ]
    }
   ],
   "source": [
    "a = [1,1,2,3,5,8,13,4,21,16,3,56]\n",
    "small_num = [num for num in a if num < 5]\n",
    "print(\"Numbers less than 5 are : \",small_num)"
   ]
  },
  {
   "cell_type": "code",
   "execution_count": null,
   "metadata": {},
   "outputs": [],
   "source": []
  }
 ],
 "metadata": {
  "kernelspec": {
   "display_name": "Python 3",
   "language": "python",
   "name": "python3"
  },
  "language_info": {
   "codemirror_mode": {
    "name": "ipython",
    "version": 3
   },
   "file_extension": ".py",
   "mimetype": "text/x-python",
   "name": "python",
   "nbconvert_exporter": "python",
   "pygments_lexer": "ipython3",
   "version": "3.7.4"
  }
 },
 "nbformat": 4,
 "nbformat_minor": 2
}
